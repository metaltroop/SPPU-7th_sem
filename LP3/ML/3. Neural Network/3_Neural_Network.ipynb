{
 "cells": [
  {
   "cell_type": "code",
   "execution_count": 2,
   "metadata": {
    "id": "atw2Xac9I0xl"
   },
   "outputs": [],
   "source": [
    "\n",
    "\n",
    "import numpy as np\n",
    "import matplotlib.pyplot as plt\n",
    "import pandas as pd\n",
    "import seaborn as sns\n",
    "sns.set()"
   ]
  },
  {
   "cell_type": "code",
   "execution_count": 3,
   "metadata": {
    "colab": {
     "base_uri": "https://localhost:8080/",
     "height": 302
    },
    "id": "NPfi2q75I0xl",
    "outputId": "1f049900-3b13-433a-fa05-c439e3d9c2de"
   },
   "outputs": [
    {
     "data": {
      "text/html": [
       "<div>\n",
       "<style scoped>\n",
       "    .dataframe tbody tr th:only-of-type {\n",
       "        vertical-align: middle;\n",
       "    }\n",
       "\n",
       "    .dataframe tbody tr th {\n",
       "        vertical-align: top;\n",
       "    }\n",
       "\n",
       "    .dataframe thead th {\n",
       "        text-align: right;\n",
       "    }\n",
       "</style>\n",
       "<table border=\"1\" class=\"dataframe\">\n",
       "  <thead>\n",
       "    <tr style=\"text-align: right;\">\n",
       "      <th></th>\n",
       "      <th>CustomerId</th>\n",
       "      <th>Surname</th>\n",
       "      <th>CreditScore</th>\n",
       "      <th>Geography</th>\n",
       "      <th>Gender</th>\n",
       "      <th>Age</th>\n",
       "      <th>Tenure</th>\n",
       "      <th>Balance</th>\n",
       "      <th>NumOfProducts</th>\n",
       "      <th>HasCrCard</th>\n",
       "      <th>IsActiveMember</th>\n",
       "      <th>EstimatedSalary</th>\n",
       "      <th>Exited</th>\n",
       "    </tr>\n",
       "    <tr>\n",
       "      <th>RowNumber</th>\n",
       "      <th></th>\n",
       "      <th></th>\n",
       "      <th></th>\n",
       "      <th></th>\n",
       "      <th></th>\n",
       "      <th></th>\n",
       "      <th></th>\n",
       "      <th></th>\n",
       "      <th></th>\n",
       "      <th></th>\n",
       "      <th></th>\n",
       "      <th></th>\n",
       "      <th></th>\n",
       "    </tr>\n",
       "  </thead>\n",
       "  <tbody>\n",
       "    <tr>\n",
       "      <th>1</th>\n",
       "      <td>15634602</td>\n",
       "      <td>Hargrave</td>\n",
       "      <td>619</td>\n",
       "      <td>France</td>\n",
       "      <td>Female</td>\n",
       "      <td>42</td>\n",
       "      <td>2</td>\n",
       "      <td>0.00</td>\n",
       "      <td>1</td>\n",
       "      <td>1</td>\n",
       "      <td>1</td>\n",
       "      <td>101348.88</td>\n",
       "      <td>1</td>\n",
       "    </tr>\n",
       "    <tr>\n",
       "      <th>2</th>\n",
       "      <td>15647311</td>\n",
       "      <td>Hill</td>\n",
       "      <td>608</td>\n",
       "      <td>Spain</td>\n",
       "      <td>Female</td>\n",
       "      <td>41</td>\n",
       "      <td>1</td>\n",
       "      <td>83807.86</td>\n",
       "      <td>1</td>\n",
       "      <td>0</td>\n",
       "      <td>1</td>\n",
       "      <td>112542.58</td>\n",
       "      <td>0</td>\n",
       "    </tr>\n",
       "    <tr>\n",
       "      <th>3</th>\n",
       "      <td>15619304</td>\n",
       "      <td>Onio</td>\n",
       "      <td>502</td>\n",
       "      <td>France</td>\n",
       "      <td>Female</td>\n",
       "      <td>42</td>\n",
       "      <td>8</td>\n",
       "      <td>159660.80</td>\n",
       "      <td>3</td>\n",
       "      <td>1</td>\n",
       "      <td>0</td>\n",
       "      <td>113931.57</td>\n",
       "      <td>1</td>\n",
       "    </tr>\n",
       "    <tr>\n",
       "      <th>4</th>\n",
       "      <td>15701354</td>\n",
       "      <td>Boni</td>\n",
       "      <td>699</td>\n",
       "      <td>France</td>\n",
       "      <td>Female</td>\n",
       "      <td>39</td>\n",
       "      <td>1</td>\n",
       "      <td>0.00</td>\n",
       "      <td>2</td>\n",
       "      <td>0</td>\n",
       "      <td>0</td>\n",
       "      <td>93826.63</td>\n",
       "      <td>0</td>\n",
       "    </tr>\n",
       "    <tr>\n",
       "      <th>5</th>\n",
       "      <td>15737888</td>\n",
       "      <td>Mitchell</td>\n",
       "      <td>850</td>\n",
       "      <td>Spain</td>\n",
       "      <td>Female</td>\n",
       "      <td>43</td>\n",
       "      <td>2</td>\n",
       "      <td>125510.82</td>\n",
       "      <td>1</td>\n",
       "      <td>1</td>\n",
       "      <td>1</td>\n",
       "      <td>79084.10</td>\n",
       "      <td>0</td>\n",
       "    </tr>\n",
       "  </tbody>\n",
       "</table>\n",
       "</div>"
      ],
      "text/plain": [
       "           CustomerId   Surname  CreditScore Geography  Gender  Age  Tenure  \\\n",
       "RowNumber                                                                     \n",
       "1            15634602  Hargrave          619    France  Female   42       2   \n",
       "2            15647311      Hill          608     Spain  Female   41       1   \n",
       "3            15619304      Onio          502    France  Female   42       8   \n",
       "4            15701354      Boni          699    France  Female   39       1   \n",
       "5            15737888  Mitchell          850     Spain  Female   43       2   \n",
       "\n",
       "             Balance  NumOfProducts  HasCrCard  IsActiveMember  \\\n",
       "RowNumber                                                        \n",
       "1               0.00              1          1               1   \n",
       "2           83807.86              1          0               1   \n",
       "3          159660.80              3          1               0   \n",
       "4               0.00              2          0               0   \n",
       "5          125510.82              1          1               1   \n",
       "\n",
       "           EstimatedSalary  Exited  \n",
       "RowNumber                           \n",
       "1                101348.88       1  \n",
       "2                112542.58       0  \n",
       "3                113931.57       1  \n",
       "4                 93826.63       0  \n",
       "5                 79084.10       0  "
      ]
     },
     "execution_count": 3,
     "metadata": {},
     "output_type": "execute_result"
    }
   ],
   "source": [
    "dataset = pd.read_csv('Churn_Modelling.csv', index_col = 'RowNumber')\n",
    "dataset.head()\n"
   ]
  },
  {
   "cell_type": "code",
   "execution_count": 4,
   "metadata": {
    "colab": {
     "base_uri": "https://localhost:8080/"
    },
    "id": "jelFHwknI0xm",
    "outputId": "e8e8af69-44e3-4b72-84cf-e15d6b026a5f"
   },
   "outputs": [
    {
     "name": "stdout",
     "output_type": "stream",
     "text": [
      "['CreditScore', 'Geography', 'Gender', 'Age', 'Tenure', 'Balance', 'NumOfProducts', 'HasCrCard', 'IsActiveMember', 'EstimatedSalary']\n",
      "['Exited']\n"
     ]
    }
   ],
   "source": [
    "#Customer ID and Surname would not be relevant as features\n",
    "X_columns = dataset.columns.tolist()[2:12]\n",
    "Y_columns = dataset.columns.tolist()[-1:]\n",
    "print(X_columns)\n",
    "print(Y_columns)"
   ]
  },
  {
   "cell_type": "code",
   "execution_count": 5,
   "metadata": {
    "id": "_EnXaCYmI0xn"
   },
   "outputs": [],
   "source": [
    "X = dataset[X_columns].values \n",
    "Y = dataset[Y_columns].values"
   ]
  },
  {
   "cell_type": "code",
   "execution_count": 6,
   "metadata": {
    "id": "cjbVx3FRI0xn"
   },
   "outputs": [],
   "source": [
    "#We need to encode categorical variables such as geography and gender\n",
    "from sklearn.preprocessing import LabelEncoder\n",
    "X_column_transformer = LabelEncoder()\n",
    "X[:, 1] = X_column_transformer.fit_transform(X[:, 1])"
   ]
  },
  {
   "cell_type": "code",
   "execution_count": 7,
   "metadata": {
    "id": "tS02t4y9I0xn"
   },
   "outputs": [],
   "source": [
    "#Lets Encode gender now\n",
    "X[:, 2] = X_column_transformer.fit_transform(X[:, 2])"
   ]
  },
  {
   "cell_type": "markdown",
   "metadata": {
    "id": "DKwFc-HWI0xo"
   },
   "source": [
    "We are treating countries with ordinal values(0 < 1 < 2) but they are incomparable.\n",
    "To solve this we can use one hot encoding.\n",
    "We will perform some standardization "
   ]
  },
  {
   "cell_type": "code",
   "execution_count": 8,
   "metadata": {
    "id": "v-bI9UNiI0xo"
   },
   "outputs": [],
   "source": [
    "from sklearn.preprocessing import StandardScaler, OneHotEncoder\n",
    "from sklearn.compose import ColumnTransformer\n",
    "from sklearn.pipeline import Pipeline\n",
    "\n",
    "pipeline = Pipeline(\n",
    "    [\n",
    "        ('Categorizer', ColumnTransformer(\n",
    "            [\n",
    "                (\"Gender Label Encoder\", OneHotEncoder(categories = 'auto', drop = 'first'), [2]),\n",
    "                (\"Geography Label Encoder\", OneHotEncoder(categories = 'auto', drop = 'first'), [1])\n",
    "            ], \n",
    "            remainder = 'passthrough', n_jobs = 1)),\n",
    "        ('Normalizer', StandardScaler())\n",
    "    ]\n",
    ")"
   ]
  },
  {
   "cell_type": "code",
   "execution_count": 9,
   "metadata": {
    "id": "7_TO_-fQI0xp"
   },
   "outputs": [],
   "source": [
    "#Standardize the features\n",
    "X = pipeline.fit_transform(X)"
   ]
  },
  {
   "cell_type": "code",
   "execution_count": 10,
   "metadata": {
    "id": "OJ7VUetiI0xq"
   },
   "outputs": [],
   "source": [
    "#Spilt the data\n",
    "from sklearn.model_selection import train_test_split\n",
    "X_train, X_test, y_train, y_test = train_test_split(X, Y, test_size = 0.2, random_state = 0)"
   ]
  },
  {
   "cell_type": "code",
   "execution_count": 11,
   "metadata": {
    "id": "mX35INUFI0xr"
   },
   "outputs": [],
   "source": [
    "from keras.models import Sequential\n",
    "from keras.layers import Dense, Dropout\n"
   ]
  },
  {
   "cell_type": "code",
   "execution_count": 12,
   "metadata": {
    "id": "VYIsyqOUI0xs"
   },
   "outputs": [],
   "source": [
    "#Initialize ANN\n",
    "classifier = Sequential()"
   ]
  },
  {
   "cell_type": "code",
   "execution_count": 13,
   "metadata": {
    "id": "i3nH8oOhJcp8"
   },
   "outputs": [
    {
     "name": "stderr",
     "output_type": "stream",
     "text": [
      "d:\\setups\\python installed folder\\Lib\\site-packages\\keras\\src\\layers\\core\\dense.py:87: UserWarning: Do not pass an `input_shape`/`input_dim` argument to a layer. When using Sequential models, prefer using an `Input(shape)` object as the first layer in the model instead.\n",
      "  super().__init__(activity_regularizer=activity_regularizer, **kwargs)\n"
     ]
    }
   ],
   "source": [
    "#Add input layer and hidden layer\n",
    "classifier.add(Dense(6, activation = 'relu', input_shape = (X_train.shape[1], )))\n",
    "classifier.add(Dropout(rate = 0.1))"
   ]
  },
  {
   "cell_type": "code",
   "execution_count": 14,
   "metadata": {
    "id": "gULE3c-YPvsI"
   },
   "outputs": [],
   "source": [
    "#Add second layer\n",
    "classifier.add(Dense(6, activation = 'relu'))\n",
    "classifier.add(Dropout(rate = 0.1))"
   ]
  },
  {
   "cell_type": "code",
   "execution_count": 15,
   "metadata": {
    "id": "j_XpNLaSP9Qk"
   },
   "outputs": [],
   "source": [
    "#Add output layer\n",
    "classifier.add(Dense(1, activation = 'sigmoid'))"
   ]
  },
  {
   "cell_type": "code",
   "execution_count": 16,
   "metadata": {
    "colab": {
     "base_uri": "https://localhost:8080/"
    },
    "id": "5rodKUhIQUWH",
    "outputId": "a8dd63ea-6662-41f3-a43b-4f3f4567a06d"
   },
   "outputs": [
    {
     "data": {
      "text/html": [
       "<pre style=\"white-space:pre;overflow-x:auto;line-height:normal;font-family:Menlo,'DejaVu Sans Mono',consolas,'Courier New',monospace\"><span style=\"font-weight: bold\">Model: \"sequential\"</span>\n",
       "</pre>\n"
      ],
      "text/plain": [
       "\u001b[1mModel: \"sequential\"\u001b[0m\n"
      ]
     },
     "metadata": {},
     "output_type": "display_data"
    },
    {
     "data": {
      "text/html": [
       "<pre style=\"white-space:pre;overflow-x:auto;line-height:normal;font-family:Menlo,'DejaVu Sans Mono',consolas,'Courier New',monospace\">┏━━━━━━━━━━━━━━━━━━━━━━━━━━━━━━━━━┳━━━━━━━━━━━━━━━━━━━━━━━━┳━━━━━━━━━━━━━━━┓\n",
       "┃<span style=\"font-weight: bold\"> Layer (type)                    </span>┃<span style=\"font-weight: bold\"> Output Shape           </span>┃<span style=\"font-weight: bold\">       Param # </span>┃\n",
       "┡━━━━━━━━━━━━━━━━━━━━━━━━━━━━━━━━━╇━━━━━━━━━━━━━━━━━━━━━━━━╇━━━━━━━━━━━━━━━┩\n",
       "│ dense (<span style=\"color: #0087ff; text-decoration-color: #0087ff\">Dense</span>)                   │ (<span style=\"color: #00d7ff; text-decoration-color: #00d7ff\">None</span>, <span style=\"color: #00af00; text-decoration-color: #00af00\">6</span>)              │            <span style=\"color: #00af00; text-decoration-color: #00af00\">72</span> │\n",
       "├─────────────────────────────────┼────────────────────────┼───────────────┤\n",
       "│ dropout (<span style=\"color: #0087ff; text-decoration-color: #0087ff\">Dropout</span>)               │ (<span style=\"color: #00d7ff; text-decoration-color: #00d7ff\">None</span>, <span style=\"color: #00af00; text-decoration-color: #00af00\">6</span>)              │             <span style=\"color: #00af00; text-decoration-color: #00af00\">0</span> │\n",
       "├─────────────────────────────────┼────────────────────────┼───────────────┤\n",
       "│ dense_1 (<span style=\"color: #0087ff; text-decoration-color: #0087ff\">Dense</span>)                 │ (<span style=\"color: #00d7ff; text-decoration-color: #00d7ff\">None</span>, <span style=\"color: #00af00; text-decoration-color: #00af00\">6</span>)              │            <span style=\"color: #00af00; text-decoration-color: #00af00\">42</span> │\n",
       "├─────────────────────────────────┼────────────────────────┼───────────────┤\n",
       "│ dropout_1 (<span style=\"color: #0087ff; text-decoration-color: #0087ff\">Dropout</span>)             │ (<span style=\"color: #00d7ff; text-decoration-color: #00d7ff\">None</span>, <span style=\"color: #00af00; text-decoration-color: #00af00\">6</span>)              │             <span style=\"color: #00af00; text-decoration-color: #00af00\">0</span> │\n",
       "├─────────────────────────────────┼────────────────────────┼───────────────┤\n",
       "│ dense_2 (<span style=\"color: #0087ff; text-decoration-color: #0087ff\">Dense</span>)                 │ (<span style=\"color: #00d7ff; text-decoration-color: #00d7ff\">None</span>, <span style=\"color: #00af00; text-decoration-color: #00af00\">1</span>)              │             <span style=\"color: #00af00; text-decoration-color: #00af00\">7</span> │\n",
       "└─────────────────────────────────┴────────────────────────┴───────────────┘\n",
       "</pre>\n"
      ],
      "text/plain": [
       "┏━━━━━━━━━━━━━━━━━━━━━━━━━━━━━━━━━┳━━━━━━━━━━━━━━━━━━━━━━━━┳━━━━━━━━━━━━━━━┓\n",
       "┃\u001b[1m \u001b[0m\u001b[1mLayer (type)                   \u001b[0m\u001b[1m \u001b[0m┃\u001b[1m \u001b[0m\u001b[1mOutput Shape          \u001b[0m\u001b[1m \u001b[0m┃\u001b[1m \u001b[0m\u001b[1m      Param #\u001b[0m\u001b[1m \u001b[0m┃\n",
       "┡━━━━━━━━━━━━━━━━━━━━━━━━━━━━━━━━━╇━━━━━━━━━━━━━━━━━━━━━━━━╇━━━━━━━━━━━━━━━┩\n",
       "│ dense (\u001b[38;5;33mDense\u001b[0m)                   │ (\u001b[38;5;45mNone\u001b[0m, \u001b[38;5;34m6\u001b[0m)              │            \u001b[38;5;34m72\u001b[0m │\n",
       "├─────────────────────────────────┼────────────────────────┼───────────────┤\n",
       "│ dropout (\u001b[38;5;33mDropout\u001b[0m)               │ (\u001b[38;5;45mNone\u001b[0m, \u001b[38;5;34m6\u001b[0m)              │             \u001b[38;5;34m0\u001b[0m │\n",
       "├─────────────────────────────────┼────────────────────────┼───────────────┤\n",
       "│ dense_1 (\u001b[38;5;33mDense\u001b[0m)                 │ (\u001b[38;5;45mNone\u001b[0m, \u001b[38;5;34m6\u001b[0m)              │            \u001b[38;5;34m42\u001b[0m │\n",
       "├─────────────────────────────────┼────────────────────────┼───────────────┤\n",
       "│ dropout_1 (\u001b[38;5;33mDropout\u001b[0m)             │ (\u001b[38;5;45mNone\u001b[0m, \u001b[38;5;34m6\u001b[0m)              │             \u001b[38;5;34m0\u001b[0m │\n",
       "├─────────────────────────────────┼────────────────────────┼───────────────┤\n",
       "│ dense_2 (\u001b[38;5;33mDense\u001b[0m)                 │ (\u001b[38;5;45mNone\u001b[0m, \u001b[38;5;34m1\u001b[0m)              │             \u001b[38;5;34m7\u001b[0m │\n",
       "└─────────────────────────────────┴────────────────────────┴───────────────┘\n"
      ]
     },
     "metadata": {},
     "output_type": "display_data"
    },
    {
     "data": {
      "text/html": [
       "<pre style=\"white-space:pre;overflow-x:auto;line-height:normal;font-family:Menlo,'DejaVu Sans Mono',consolas,'Courier New',monospace\"><span style=\"font-weight: bold\"> Total params: </span><span style=\"color: #00af00; text-decoration-color: #00af00\">121</span> (484.00 B)\n",
       "</pre>\n"
      ],
      "text/plain": [
       "\u001b[1m Total params: \u001b[0m\u001b[38;5;34m121\u001b[0m (484.00 B)\n"
      ]
     },
     "metadata": {},
     "output_type": "display_data"
    },
    {
     "data": {
      "text/html": [
       "<pre style=\"white-space:pre;overflow-x:auto;line-height:normal;font-family:Menlo,'DejaVu Sans Mono',consolas,'Courier New',monospace\"><span style=\"font-weight: bold\"> Trainable params: </span><span style=\"color: #00af00; text-decoration-color: #00af00\">121</span> (484.00 B)\n",
       "</pre>\n"
      ],
      "text/plain": [
       "\u001b[1m Trainable params: \u001b[0m\u001b[38;5;34m121\u001b[0m (484.00 B)\n"
      ]
     },
     "metadata": {},
     "output_type": "display_data"
    },
    {
     "data": {
      "text/html": [
       "<pre style=\"white-space:pre;overflow-x:auto;line-height:normal;font-family:Menlo,'DejaVu Sans Mono',consolas,'Courier New',monospace\"><span style=\"font-weight: bold\"> Non-trainable params: </span><span style=\"color: #00af00; text-decoration-color: #00af00\">0</span> (0.00 B)\n",
       "</pre>\n"
      ],
      "text/plain": [
       "\u001b[1m Non-trainable params: \u001b[0m\u001b[38;5;34m0\u001b[0m (0.00 B)\n"
      ]
     },
     "metadata": {},
     "output_type": "display_data"
    }
   ],
   "source": [
    "#Let us take a look at our network\n",
    "classifier.summary()"
   ]
  },
  {
   "cell_type": "code",
   "execution_count": 17,
   "metadata": {
    "id": "XfHGyyviSXed"
   },
   "outputs": [],
   "source": [
    "#Optimize the weights\n",
    "classifier.compile(optimizer = 'adam', loss = 'binary_crossentropy', metrics = ['accuracy'])"
   ]
  },
  {
   "cell_type": "code",
   "execution_count": 18,
   "metadata": {
    "colab": {
     "base_uri": "https://localhost:8080/"
    },
    "id": "7px7qzJQVhan",
    "outputId": "09d47fa7-684c-424c-f144-e86492bcfa24"
   },
   "outputs": [
    {
     "name": "stdout",
     "output_type": "stream",
     "text": [
      "Epoch 1/200\n",
      "225/225 - 5s - 22ms/step - accuracy: 0.6907 - loss: 0.6120 - val_accuracy: 0.7950 - val_loss: 0.4972\n",
      "Epoch 2/200\n",
      "225/225 - 1s - 2ms/step - accuracy: 0.7906 - loss: 0.5056 - val_accuracy: 0.7950 - val_loss: 0.4671\n",
      "Epoch 3/200\n",
      "225/225 - 1s - 3ms/step - accuracy: 0.7950 - loss: 0.4819 - val_accuracy: 0.7950 - val_loss: 0.4525\n",
      "Epoch 4/200\n",
      "225/225 - 1s - 3ms/step - accuracy: 0.7951 - loss: 0.4684 - val_accuracy: 0.7950 - val_loss: 0.4433\n",
      "Epoch 5/200\n",
      "225/225 - 1s - 3ms/step - accuracy: 0.7944 - loss: 0.4655 - val_accuracy: 0.7950 - val_loss: 0.4378\n",
      "Epoch 6/200\n",
      "225/225 - 1s - 3ms/step - accuracy: 0.7960 - loss: 0.4612 - val_accuracy: 0.7950 - val_loss: 0.4341\n",
      "Epoch 7/200\n",
      "225/225 - 1s - 2ms/step - accuracy: 0.7969 - loss: 0.4548 - val_accuracy: 0.7950 - val_loss: 0.4304\n",
      "Epoch 8/200\n",
      "225/225 - 0s - 2ms/step - accuracy: 0.7993 - loss: 0.4545 - val_accuracy: 0.7962 - val_loss: 0.4257\n",
      "Epoch 9/200\n",
      "225/225 - 0s - 2ms/step - accuracy: 0.8032 - loss: 0.4435 - val_accuracy: 0.8025 - val_loss: 0.4196\n",
      "Epoch 10/200\n",
      "225/225 - 0s - 2ms/step - accuracy: 0.8081 - loss: 0.4367 - val_accuracy: 0.8075 - val_loss: 0.4110\n",
      "Epoch 11/200\n",
      "225/225 - 1s - 2ms/step - accuracy: 0.8128 - loss: 0.4317 - val_accuracy: 0.8087 - val_loss: 0.4015\n",
      "Epoch 12/200\n",
      "225/225 - 0s - 2ms/step - accuracy: 0.8161 - loss: 0.4183 - val_accuracy: 0.8100 - val_loss: 0.3943\n",
      "Epoch 13/200\n",
      "225/225 - 1s - 3ms/step - accuracy: 0.8160 - loss: 0.4126 - val_accuracy: 0.8112 - val_loss: 0.3887\n",
      "Epoch 14/200\n",
      "225/225 - 1s - 2ms/step - accuracy: 0.8179 - loss: 0.4079 - val_accuracy: 0.8112 - val_loss: 0.3820\n",
      "Epoch 15/200\n",
      "225/225 - 0s - 2ms/step - accuracy: 0.8186 - loss: 0.3992 - val_accuracy: 0.8112 - val_loss: 0.3765\n",
      "Epoch 16/200\n",
      "225/225 - 0s - 2ms/step - accuracy: 0.8178 - loss: 0.3977 - val_accuracy: 0.8112 - val_loss: 0.3718\n",
      "Epoch 17/200\n",
      "225/225 - 1s - 3ms/step - accuracy: 0.8186 - loss: 0.3959 - val_accuracy: 0.8125 - val_loss: 0.3692\n",
      "Epoch 18/200\n",
      "225/225 - 1s - 3ms/step - accuracy: 0.8186 - loss: 0.3979 - val_accuracy: 0.8125 - val_loss: 0.3681\n",
      "Epoch 19/200\n",
      "225/225 - 1s - 3ms/step - accuracy: 0.8172 - loss: 0.4000 - val_accuracy: 0.8125 - val_loss: 0.3677\n",
      "Epoch 20/200\n",
      "225/225 - 1s - 3ms/step - accuracy: 0.8181 - loss: 0.3938 - val_accuracy: 0.8125 - val_loss: 0.3646\n",
      "Epoch 21/200\n",
      "225/225 - 3s - 11ms/step - accuracy: 0.8196 - loss: 0.3903 - val_accuracy: 0.8125 - val_loss: 0.3636\n",
      "Epoch 22/200\n",
      "225/225 - 2s - 8ms/step - accuracy: 0.8189 - loss: 0.3953 - val_accuracy: 0.8125 - val_loss: 0.3627\n",
      "Epoch 23/200\n",
      "225/225 - 2s - 9ms/step - accuracy: 0.8188 - loss: 0.3952 - val_accuracy: 0.8125 - val_loss: 0.3634\n",
      "Epoch 24/200\n",
      "225/225 - 3s - 12ms/step - accuracy: 0.8192 - loss: 0.3881 - val_accuracy: 0.8125 - val_loss: 0.3600\n",
      "Epoch 25/200\n",
      "225/225 - 1s - 3ms/step - accuracy: 0.8204 - loss: 0.3870 - val_accuracy: 0.8125 - val_loss: 0.3587\n",
      "Epoch 26/200\n",
      "225/225 - 1s - 5ms/step - accuracy: 0.8181 - loss: 0.3900 - val_accuracy: 0.8112 - val_loss: 0.3581\n",
      "Epoch 27/200\n",
      "225/225 - 1s - 5ms/step - accuracy: 0.8182 - loss: 0.3895 - val_accuracy: 0.8125 - val_loss: 0.3578\n",
      "Epoch 28/200\n",
      "225/225 - 1s - 4ms/step - accuracy: 0.8194 - loss: 0.3892 - val_accuracy: 0.8125 - val_loss: 0.3576\n",
      "Epoch 29/200\n",
      "225/225 - 1s - 4ms/step - accuracy: 0.8192 - loss: 0.3905 - val_accuracy: 0.8112 - val_loss: 0.3570\n",
      "Epoch 30/200\n",
      "225/225 - 1s - 4ms/step - accuracy: 0.8179 - loss: 0.3914 - val_accuracy: 0.8112 - val_loss: 0.3571\n",
      "Epoch 31/200\n",
      "225/225 - 1s - 4ms/step - accuracy: 0.8190 - loss: 0.3854 - val_accuracy: 0.8112 - val_loss: 0.3561\n",
      "Epoch 32/200\n",
      "225/225 - 1s - 2ms/step - accuracy: 0.8179 - loss: 0.3899 - val_accuracy: 0.8112 - val_loss: 0.3555\n",
      "Epoch 33/200\n",
      "225/225 - 0s - 2ms/step - accuracy: 0.8192 - loss: 0.3847 - val_accuracy: 0.8112 - val_loss: 0.3547\n",
      "Epoch 34/200\n",
      "225/225 - 0s - 2ms/step - accuracy: 0.8189 - loss: 0.3889 - val_accuracy: 0.8125 - val_loss: 0.3550\n",
      "Epoch 35/200\n",
      "225/225 - 0s - 2ms/step - accuracy: 0.8176 - loss: 0.3897 - val_accuracy: 0.8125 - val_loss: 0.3552\n",
      "Epoch 36/200\n",
      "225/225 - 0s - 2ms/step - accuracy: 0.8169 - loss: 0.3947 - val_accuracy: 0.8125 - val_loss: 0.3549\n",
      "Epoch 37/200\n",
      "225/225 - 1s - 3ms/step - accuracy: 0.8204 - loss: 0.3867 - val_accuracy: 0.8125 - val_loss: 0.3537\n",
      "Epoch 38/200\n",
      "225/225 - 0s - 2ms/step - accuracy: 0.8200 - loss: 0.3851 - val_accuracy: 0.8125 - val_loss: 0.3537\n",
      "Epoch 39/200\n",
      "225/225 - 1s - 3ms/step - accuracy: 0.8192 - loss: 0.3860 - val_accuracy: 0.8125 - val_loss: 0.3540\n",
      "Epoch 40/200\n",
      "225/225 - 1s - 4ms/step - accuracy: 0.8193 - loss: 0.3879 - val_accuracy: 0.8125 - val_loss: 0.3540\n",
      "Epoch 41/200\n",
      "225/225 - 1s - 3ms/step - accuracy: 0.8189 - loss: 0.3840 - val_accuracy: 0.8112 - val_loss: 0.3531\n",
      "Epoch 42/200\n",
      "225/225 - 1s - 3ms/step - accuracy: 0.8189 - loss: 0.3862 - val_accuracy: 0.8112 - val_loss: 0.3534\n",
      "Epoch 43/200\n",
      "225/225 - 0s - 2ms/step - accuracy: 0.8190 - loss: 0.3876 - val_accuracy: 0.8125 - val_loss: 0.3532\n",
      "Epoch 44/200\n",
      "225/225 - 1s - 6ms/step - accuracy: 0.8206 - loss: 0.3861 - val_accuracy: 0.8125 - val_loss: 0.3523\n",
      "Epoch 45/200\n",
      "225/225 - 2s - 11ms/step - accuracy: 0.8203 - loss: 0.3848 - val_accuracy: 0.8125 - val_loss: 0.3525\n",
      "Epoch 46/200\n",
      "225/225 - 2s - 8ms/step - accuracy: 0.8206 - loss: 0.3812 - val_accuracy: 0.8112 - val_loss: 0.3516\n",
      "Epoch 47/200\n",
      "225/225 - 1s - 3ms/step - accuracy: 0.8192 - loss: 0.3846 - val_accuracy: 0.8112 - val_loss: 0.3523\n",
      "Epoch 48/200\n",
      "225/225 - 1s - 5ms/step - accuracy: 0.8186 - loss: 0.3867 - val_accuracy: 0.8125 - val_loss: 0.3519\n",
      "Epoch 49/200\n",
      "225/225 - 1s - 5ms/step - accuracy: 0.8201 - loss: 0.3837 - val_accuracy: 0.8125 - val_loss: 0.3512\n",
      "Epoch 50/200\n",
      "225/225 - 1s - 4ms/step - accuracy: 0.8192 - loss: 0.3858 - val_accuracy: 0.8125 - val_loss: 0.3510\n",
      "Epoch 51/200\n",
      "225/225 - 1s - 3ms/step - accuracy: 0.8206 - loss: 0.3826 - val_accuracy: 0.8125 - val_loss: 0.3509\n",
      "Epoch 52/200\n",
      "225/225 - 1s - 2ms/step - accuracy: 0.8199 - loss: 0.3851 - val_accuracy: 0.8125 - val_loss: 0.3500\n",
      "Epoch 53/200\n",
      "225/225 - 1s - 3ms/step - accuracy: 0.8197 - loss: 0.3872 - val_accuracy: 0.8112 - val_loss: 0.3495\n",
      "Epoch 54/200\n",
      "225/225 - 1s - 3ms/step - accuracy: 0.8190 - loss: 0.3848 - val_accuracy: 0.8112 - val_loss: 0.3501\n",
      "Epoch 55/200\n",
      "225/225 - 1s - 3ms/step - accuracy: 0.8178 - loss: 0.3883 - val_accuracy: 0.8125 - val_loss: 0.3503\n",
      "Epoch 56/200\n",
      "225/225 - 1s - 3ms/step - accuracy: 0.8196 - loss: 0.3832 - val_accuracy: 0.8125 - val_loss: 0.3502\n",
      "Epoch 57/200\n",
      "225/225 - 1s - 3ms/step - accuracy: 0.8192 - loss: 0.3882 - val_accuracy: 0.8125 - val_loss: 0.3505\n",
      "Epoch 58/200\n",
      "225/225 - 1s - 3ms/step - accuracy: 0.8206 - loss: 0.3813 - val_accuracy: 0.8125 - val_loss: 0.3501\n",
      "Epoch 59/200\n",
      "225/225 - 1s - 3ms/step - accuracy: 0.8192 - loss: 0.3855 - val_accuracy: 0.8112 - val_loss: 0.3500\n",
      "Epoch 60/200\n",
      "225/225 - 1s - 3ms/step - accuracy: 0.8203 - loss: 0.3827 - val_accuracy: 0.8125 - val_loss: 0.3504\n",
      "Epoch 61/200\n",
      "225/225 - 1s - 4ms/step - accuracy: 0.8182 - loss: 0.3862 - val_accuracy: 0.8112 - val_loss: 0.3501\n",
      "Epoch 62/200\n",
      "225/225 - 1s - 3ms/step - accuracy: 0.8192 - loss: 0.3835 - val_accuracy: 0.8112 - val_loss: 0.3499\n",
      "Epoch 63/200\n",
      "225/225 - 1s - 2ms/step - accuracy: 0.8197 - loss: 0.3829 - val_accuracy: 0.8112 - val_loss: 0.3497\n",
      "Epoch 64/200\n",
      "225/225 - 1s - 2ms/step - accuracy: 0.8199 - loss: 0.3792 - val_accuracy: 0.8125 - val_loss: 0.3495\n",
      "Epoch 65/200\n",
      "225/225 - 1s - 3ms/step - accuracy: 0.8217 - loss: 0.3820 - val_accuracy: 0.8125 - val_loss: 0.3492\n",
      "Epoch 66/200\n",
      "225/225 - 1s - 4ms/step - accuracy: 0.8200 - loss: 0.3828 - val_accuracy: 0.8112 - val_loss: 0.3488\n",
      "Epoch 67/200\n",
      "225/225 - 1s - 3ms/step - accuracy: 0.8213 - loss: 0.3806 - val_accuracy: 0.8125 - val_loss: 0.3482\n",
      "Epoch 68/200\n",
      "225/225 - 1s - 3ms/step - accuracy: 0.8204 - loss: 0.3793 - val_accuracy: 0.8112 - val_loss: 0.3481\n",
      "Epoch 69/200\n",
      "225/225 - 1s - 3ms/step - accuracy: 0.8211 - loss: 0.3848 - val_accuracy: 0.8112 - val_loss: 0.3487\n",
      "Epoch 70/200\n",
      "225/225 - 1s - 3ms/step - accuracy: 0.8219 - loss: 0.3808 - val_accuracy: 0.8125 - val_loss: 0.3484\n",
      "Epoch 71/200\n",
      "225/225 - 1s - 3ms/step - accuracy: 0.8211 - loss: 0.3847 - val_accuracy: 0.8112 - val_loss: 0.3490\n",
      "Epoch 72/200\n",
      "225/225 - 1s - 3ms/step - accuracy: 0.8211 - loss: 0.3788 - val_accuracy: 0.8112 - val_loss: 0.3488\n",
      "Epoch 73/200\n",
      "225/225 - 1s - 3ms/step - accuracy: 0.8200 - loss: 0.3810 - val_accuracy: 0.8112 - val_loss: 0.3483\n",
      "Epoch 74/200\n",
      "225/225 - 1s - 3ms/step - accuracy: 0.8199 - loss: 0.3838 - val_accuracy: 0.8125 - val_loss: 0.3482\n",
      "Epoch 75/200\n",
      "225/225 - 1s - 3ms/step - accuracy: 0.8207 - loss: 0.3818 - val_accuracy: 0.8100 - val_loss: 0.3477\n",
      "Epoch 76/200\n",
      "225/225 - 1s - 3ms/step - accuracy: 0.8197 - loss: 0.3848 - val_accuracy: 0.8125 - val_loss: 0.3479\n",
      "Epoch 77/200\n",
      "225/225 - 1s - 4ms/step - accuracy: 0.8206 - loss: 0.3807 - val_accuracy: 0.8112 - val_loss: 0.3477\n",
      "Epoch 78/200\n",
      "225/225 - 1s - 3ms/step - accuracy: 0.8176 - loss: 0.3845 - val_accuracy: 0.8125 - val_loss: 0.3482\n",
      "Epoch 79/200\n",
      "225/225 - 1s - 3ms/step - accuracy: 0.8215 - loss: 0.3831 - val_accuracy: 0.8125 - val_loss: 0.3483\n",
      "Epoch 80/200\n",
      "225/225 - 1s - 2ms/step - accuracy: 0.8208 - loss: 0.3796 - val_accuracy: 0.8112 - val_loss: 0.3487\n",
      "Epoch 81/200\n",
      "225/225 - 1s - 4ms/step - accuracy: 0.8200 - loss: 0.3841 - val_accuracy: 0.8112 - val_loss: 0.3484\n",
      "Epoch 82/200\n",
      "225/225 - 1s - 3ms/step - accuracy: 0.8182 - loss: 0.3822 - val_accuracy: 0.8125 - val_loss: 0.3488\n",
      "Epoch 83/200\n",
      "225/225 - 1s - 2ms/step - accuracy: 0.8199 - loss: 0.3814 - val_accuracy: 0.8112 - val_loss: 0.3475\n",
      "Epoch 84/200\n",
      "225/225 - 1s - 3ms/step - accuracy: 0.8211 - loss: 0.3828 - val_accuracy: 0.8112 - val_loss: 0.3476\n",
      "Epoch 85/200\n",
      "225/225 - 1s - 3ms/step - accuracy: 0.8206 - loss: 0.3812 - val_accuracy: 0.8125 - val_loss: 0.3472\n",
      "Epoch 86/200\n",
      "225/225 - 1s - 5ms/step - accuracy: 0.8200 - loss: 0.3848 - val_accuracy: 0.8125 - val_loss: 0.3478\n",
      "Epoch 87/200\n",
      "225/225 - 1s - 3ms/step - accuracy: 0.8218 - loss: 0.3742 - val_accuracy: 0.8112 - val_loss: 0.3472\n",
      "Epoch 88/200\n",
      "225/225 - 1s - 5ms/step - accuracy: 0.8210 - loss: 0.3837 - val_accuracy: 0.8125 - val_loss: 0.3472\n",
      "Epoch 89/200\n",
      "225/225 - 1s - 7ms/step - accuracy: 0.8185 - loss: 0.3822 - val_accuracy: 0.8125 - val_loss: 0.3474\n",
      "Epoch 90/200\n",
      "225/225 - 1s - 5ms/step - accuracy: 0.8213 - loss: 0.3778 - val_accuracy: 0.8125 - val_loss: 0.3462\n",
      "Epoch 91/200\n",
      "225/225 - 1s - 5ms/step - accuracy: 0.8206 - loss: 0.3812 - val_accuracy: 0.8125 - val_loss: 0.3470\n",
      "Epoch 92/200\n",
      "225/225 - 1s - 3ms/step - accuracy: 0.8199 - loss: 0.3828 - val_accuracy: 0.8125 - val_loss: 0.3470\n",
      "Epoch 93/200\n",
      "225/225 - 1s - 3ms/step - accuracy: 0.8200 - loss: 0.3826 - val_accuracy: 0.8125 - val_loss: 0.3464\n",
      "Epoch 94/200\n",
      "225/225 - 1s - 3ms/step - accuracy: 0.8199 - loss: 0.3827 - val_accuracy: 0.8112 - val_loss: 0.3466\n",
      "Epoch 95/200\n",
      "225/225 - 1s - 3ms/step - accuracy: 0.8204 - loss: 0.3855 - val_accuracy: 0.8112 - val_loss: 0.3469\n",
      "Epoch 96/200\n",
      "225/225 - 1s - 2ms/step - accuracy: 0.8199 - loss: 0.3828 - val_accuracy: 0.8125 - val_loss: 0.3487\n",
      "Epoch 97/200\n",
      "225/225 - 1s - 3ms/step - accuracy: 0.8210 - loss: 0.3809 - val_accuracy: 0.8125 - val_loss: 0.3461\n",
      "Epoch 98/200\n",
      "225/225 - 1s - 3ms/step - accuracy: 0.8211 - loss: 0.3824 - val_accuracy: 0.8125 - val_loss: 0.3470\n",
      "Epoch 99/200\n",
      "225/225 - 1s - 3ms/step - accuracy: 0.8210 - loss: 0.3805 - val_accuracy: 0.8125 - val_loss: 0.3464\n",
      "Epoch 100/200\n",
      "225/225 - 1s - 3ms/step - accuracy: 0.8203 - loss: 0.3798 - val_accuracy: 0.8125 - val_loss: 0.3464\n",
      "Epoch 101/200\n",
      "225/225 - 1s - 3ms/step - accuracy: 0.8213 - loss: 0.3761 - val_accuracy: 0.8125 - val_loss: 0.3462\n",
      "Epoch 102/200\n",
      "225/225 - 1s - 3ms/step - accuracy: 0.8211 - loss: 0.3798 - val_accuracy: 0.8125 - val_loss: 0.3460\n",
      "Epoch 103/200\n",
      "225/225 - 1s - 4ms/step - accuracy: 0.8204 - loss: 0.3793 - val_accuracy: 0.8125 - val_loss: 0.3457\n",
      "Epoch 104/200\n",
      "225/225 - 1s - 4ms/step - accuracy: 0.8204 - loss: 0.3752 - val_accuracy: 0.8125 - val_loss: 0.3460\n",
      "Epoch 105/200\n",
      "225/225 - 1s - 3ms/step - accuracy: 0.8218 - loss: 0.3792 - val_accuracy: 0.8112 - val_loss: 0.3466\n",
      "Epoch 106/200\n",
      "225/225 - 1s - 3ms/step - accuracy: 0.8206 - loss: 0.3779 - val_accuracy: 0.8125 - val_loss: 0.3463\n",
      "Epoch 107/200\n",
      "225/225 - 2s - 10ms/step - accuracy: 0.8214 - loss: 0.3783 - val_accuracy: 0.8125 - val_loss: 0.3462\n",
      "Epoch 108/200\n",
      "225/225 - 2s - 9ms/step - accuracy: 0.8218 - loss: 0.3823 - val_accuracy: 0.8112 - val_loss: 0.3464\n",
      "Epoch 109/200\n",
      "225/225 - 1s - 5ms/step - accuracy: 0.8211 - loss: 0.3751 - val_accuracy: 0.8125 - val_loss: 0.3459\n",
      "Epoch 110/200\n",
      "225/225 - 2s - 8ms/step - accuracy: 0.8214 - loss: 0.3818 - val_accuracy: 0.8125 - val_loss: 0.3463\n",
      "Epoch 111/200\n",
      "225/225 - 3s - 15ms/step - accuracy: 0.8215 - loss: 0.3791 - val_accuracy: 0.8112 - val_loss: 0.3462\n",
      "Epoch 112/200\n",
      "225/225 - 2s - 7ms/step - accuracy: 0.8203 - loss: 0.3822 - val_accuracy: 0.8125 - val_loss: 0.3469\n",
      "Epoch 113/200\n",
      "225/225 - 1s - 4ms/step - accuracy: 0.8199 - loss: 0.3797 - val_accuracy: 0.8125 - val_loss: 0.3459\n",
      "Epoch 114/200\n",
      "225/225 - 2s - 8ms/step - accuracy: 0.8204 - loss: 0.3783 - val_accuracy: 0.8112 - val_loss: 0.3468\n",
      "Epoch 115/200\n",
      "225/225 - 2s - 7ms/step - accuracy: 0.8208 - loss: 0.3801 - val_accuracy: 0.8125 - val_loss: 0.3459\n",
      "Epoch 116/200\n",
      "225/225 - 2s - 10ms/step - accuracy: 0.8218 - loss: 0.3791 - val_accuracy: 0.8100 - val_loss: 0.3458\n",
      "Epoch 117/200\n",
      "225/225 - 1s - 5ms/step - accuracy: 0.8206 - loss: 0.3794 - val_accuracy: 0.8125 - val_loss: 0.3446\n",
      "Epoch 118/200\n",
      "225/225 - 1s - 3ms/step - accuracy: 0.8200 - loss: 0.3796 - val_accuracy: 0.8138 - val_loss: 0.3453\n",
      "Epoch 119/200\n",
      "225/225 - 1s - 3ms/step - accuracy: 0.8207 - loss: 0.3788 - val_accuracy: 0.8125 - val_loss: 0.3458\n",
      "Epoch 120/200\n",
      "225/225 - 1s - 4ms/step - accuracy: 0.8207 - loss: 0.3820 - val_accuracy: 0.8125 - val_loss: 0.3468\n",
      "Epoch 121/200\n",
      "225/225 - 1s - 3ms/step - accuracy: 0.8215 - loss: 0.3798 - val_accuracy: 0.8125 - val_loss: 0.3467\n",
      "Epoch 122/200\n",
      "225/225 - 1s - 3ms/step - accuracy: 0.8199 - loss: 0.3794 - val_accuracy: 0.8112 - val_loss: 0.3464\n",
      "Epoch 123/200\n",
      "225/225 - 1s - 6ms/step - accuracy: 0.8208 - loss: 0.3805 - val_accuracy: 0.8125 - val_loss: 0.3454\n",
      "Epoch 124/200\n",
      "225/225 - 1s - 2ms/step - accuracy: 0.8215 - loss: 0.3806 - val_accuracy: 0.8125 - val_loss: 0.3449\n",
      "Epoch 125/200\n",
      "225/225 - 1s - 3ms/step - accuracy: 0.8218 - loss: 0.3803 - val_accuracy: 0.8112 - val_loss: 0.3456\n",
      "Epoch 126/200\n",
      "225/225 - 1s - 3ms/step - accuracy: 0.8204 - loss: 0.3829 - val_accuracy: 0.8125 - val_loss: 0.3456\n",
      "Epoch 127/200\n",
      "225/225 - 1s - 3ms/step - accuracy: 0.8210 - loss: 0.3806 - val_accuracy: 0.8125 - val_loss: 0.3450\n",
      "Epoch 128/200\n",
      "225/225 - 0s - 2ms/step - accuracy: 0.8214 - loss: 0.3795 - val_accuracy: 0.8125 - val_loss: 0.3453\n",
      "Epoch 129/200\n",
      "225/225 - 0s - 2ms/step - accuracy: 0.8213 - loss: 0.3780 - val_accuracy: 0.8112 - val_loss: 0.3453\n",
      "Epoch 130/200\n",
      "225/225 - 1s - 3ms/step - accuracy: 0.8208 - loss: 0.3798 - val_accuracy: 0.8125 - val_loss: 0.3448\n",
      "Epoch 131/200\n",
      "225/225 - 1s - 3ms/step - accuracy: 0.8215 - loss: 0.3804 - val_accuracy: 0.8138 - val_loss: 0.3452\n",
      "Epoch 132/200\n",
      "225/225 - 1s - 2ms/step - accuracy: 0.8214 - loss: 0.3792 - val_accuracy: 0.8138 - val_loss: 0.3457\n",
      "Epoch 133/200\n",
      "225/225 - 1s - 3ms/step - accuracy: 0.8217 - loss: 0.3811 - val_accuracy: 0.8138 - val_loss: 0.3454\n",
      "Epoch 134/200\n",
      "225/225 - 1s - 3ms/step - accuracy: 0.8214 - loss: 0.3797 - val_accuracy: 0.8138 - val_loss: 0.3457\n",
      "Epoch 135/200\n",
      "225/225 - 1s - 2ms/step - accuracy: 0.8211 - loss: 0.3793 - val_accuracy: 0.8112 - val_loss: 0.3455\n",
      "Epoch 136/200\n",
      "225/225 - 1s - 3ms/step - accuracy: 0.8218 - loss: 0.3822 - val_accuracy: 0.8138 - val_loss: 0.3459\n",
      "Epoch 137/200\n",
      "225/225 - 1s - 4ms/step - accuracy: 0.8208 - loss: 0.3826 - val_accuracy: 0.8112 - val_loss: 0.3467\n",
      "Epoch 138/200\n",
      "225/225 - 1s - 4ms/step - accuracy: 0.8215 - loss: 0.3736 - val_accuracy: 0.8138 - val_loss: 0.3458\n",
      "Epoch 139/200\n",
      "225/225 - 1s - 3ms/step - accuracy: 0.8199 - loss: 0.3839 - val_accuracy: 0.8125 - val_loss: 0.3459\n",
      "Epoch 140/200\n",
      "225/225 - 1s - 3ms/step - accuracy: 0.8210 - loss: 0.3792 - val_accuracy: 0.8138 - val_loss: 0.3451\n",
      "Epoch 141/200\n",
      "225/225 - 1s - 3ms/step - accuracy: 0.8201 - loss: 0.3793 - val_accuracy: 0.8125 - val_loss: 0.3454\n",
      "Epoch 142/200\n",
      "225/225 - 1s - 3ms/step - accuracy: 0.8213 - loss: 0.3741 - val_accuracy: 0.8138 - val_loss: 0.3451\n",
      "Epoch 143/200\n",
      "225/225 - 1s - 3ms/step - accuracy: 0.8224 - loss: 0.3747 - val_accuracy: 0.8125 - val_loss: 0.3450\n",
      "Epoch 144/200\n",
      "225/225 - 1s - 6ms/step - accuracy: 0.8208 - loss: 0.3796 - val_accuracy: 0.8125 - val_loss: 0.3456\n",
      "Epoch 145/200\n",
      "225/225 - 1s - 3ms/step - accuracy: 0.8214 - loss: 0.3822 - val_accuracy: 0.8125 - val_loss: 0.3461\n",
      "Epoch 146/200\n",
      "225/225 - 0s - 2ms/step - accuracy: 0.8206 - loss: 0.3767 - val_accuracy: 0.8125 - val_loss: 0.3458\n",
      "Epoch 147/200\n",
      "225/225 - 1s - 2ms/step - accuracy: 0.8211 - loss: 0.3779 - val_accuracy: 0.8112 - val_loss: 0.3448\n",
      "Epoch 148/200\n",
      "225/225 - 1s - 2ms/step - accuracy: 0.8214 - loss: 0.3809 - val_accuracy: 0.8125 - val_loss: 0.3464\n",
      "Epoch 149/200\n",
      "225/225 - 0s - 2ms/step - accuracy: 0.8224 - loss: 0.3764 - val_accuracy: 0.8125 - val_loss: 0.3459\n",
      "Epoch 150/200\n",
      "225/225 - 1s - 2ms/step - accuracy: 0.8197 - loss: 0.3820 - val_accuracy: 0.8125 - val_loss: 0.3467\n",
      "Epoch 151/200\n",
      "225/225 - 1s - 3ms/step - accuracy: 0.8197 - loss: 0.3788 - val_accuracy: 0.8112 - val_loss: 0.3471\n",
      "Epoch 152/200\n",
      "225/225 - 1s - 3ms/step - accuracy: 0.8222 - loss: 0.3816 - val_accuracy: 0.8112 - val_loss: 0.3469\n",
      "Epoch 153/200\n",
      "225/225 - 0s - 2ms/step - accuracy: 0.8197 - loss: 0.3792 - val_accuracy: 0.8125 - val_loss: 0.3457\n",
      "Epoch 154/200\n",
      "225/225 - 1s - 2ms/step - accuracy: 0.8221 - loss: 0.3769 - val_accuracy: 0.8125 - val_loss: 0.3461\n",
      "Epoch 155/200\n",
      "225/225 - 1s - 2ms/step - accuracy: 0.8225 - loss: 0.3746 - val_accuracy: 0.8125 - val_loss: 0.3463\n",
      "Epoch 156/200\n",
      "225/225 - 1s - 2ms/step - accuracy: 0.8215 - loss: 0.3714 - val_accuracy: 0.8138 - val_loss: 0.3456\n",
      "Epoch 157/200\n",
      "225/225 - 1s - 3ms/step - accuracy: 0.8208 - loss: 0.3782 - val_accuracy: 0.8125 - val_loss: 0.3449\n",
      "Epoch 158/200\n",
      "225/225 - 1s - 2ms/step - accuracy: 0.8214 - loss: 0.3777 - val_accuracy: 0.8125 - val_loss: 0.3455\n",
      "Epoch 159/200\n",
      "225/225 - 1s - 3ms/step - accuracy: 0.8200 - loss: 0.3755 - val_accuracy: 0.8125 - val_loss: 0.3454\n",
      "Epoch 160/200\n",
      "225/225 - 1s - 2ms/step - accuracy: 0.8228 - loss: 0.3764 - val_accuracy: 0.8125 - val_loss: 0.3449\n",
      "Epoch 161/200\n",
      "225/225 - 1s - 3ms/step - accuracy: 0.8210 - loss: 0.3770 - val_accuracy: 0.8112 - val_loss: 0.3460\n",
      "Epoch 162/200\n",
      "225/225 - 2s - 8ms/step - accuracy: 0.8207 - loss: 0.3766 - val_accuracy: 0.8125 - val_loss: 0.3453\n",
      "Epoch 163/200\n",
      "225/225 - 1s - 3ms/step - accuracy: 0.8222 - loss: 0.3766 - val_accuracy: 0.8125 - val_loss: 0.3460\n",
      "Epoch 164/200\n",
      "225/225 - 1s - 5ms/step - accuracy: 0.8215 - loss: 0.3757 - val_accuracy: 0.8125 - val_loss: 0.3462\n",
      "Epoch 165/200\n",
      "225/225 - 2s - 8ms/step - accuracy: 0.8214 - loss: 0.3750 - val_accuracy: 0.8125 - val_loss: 0.3461\n",
      "Epoch 166/200\n",
      "225/225 - 1s - 6ms/step - accuracy: 0.8214 - loss: 0.3774 - val_accuracy: 0.8125 - val_loss: 0.3459\n",
      "Epoch 167/200\n",
      "225/225 - 1s - 4ms/step - accuracy: 0.8206 - loss: 0.3782 - val_accuracy: 0.8125 - val_loss: 0.3452\n",
      "Epoch 168/200\n",
      "225/225 - 1s - 4ms/step - accuracy: 0.8203 - loss: 0.3786 - val_accuracy: 0.8125 - val_loss: 0.3458\n",
      "Epoch 169/200\n",
      "225/225 - 1s - 5ms/step - accuracy: 0.8210 - loss: 0.3767 - val_accuracy: 0.8125 - val_loss: 0.3454\n",
      "Epoch 170/200\n",
      "225/225 - 1s - 6ms/step - accuracy: 0.8222 - loss: 0.3755 - val_accuracy: 0.8125 - val_loss: 0.3447\n",
      "Epoch 171/200\n",
      "225/225 - 2s - 9ms/step - accuracy: 0.8226 - loss: 0.3767 - val_accuracy: 0.8112 - val_loss: 0.3452\n",
      "Epoch 172/200\n",
      "225/225 - 2s - 8ms/step - accuracy: 0.8219 - loss: 0.3765 - val_accuracy: 0.8138 - val_loss: 0.3440\n",
      "Epoch 173/200\n",
      "225/225 - 2s - 11ms/step - accuracy: 0.8218 - loss: 0.3737 - val_accuracy: 0.8125 - val_loss: 0.3449\n",
      "Epoch 174/200\n",
      "225/225 - 2s - 7ms/step - accuracy: 0.8213 - loss: 0.3768 - val_accuracy: 0.8125 - val_loss: 0.3461\n",
      "Epoch 175/200\n",
      "225/225 - 1s - 5ms/step - accuracy: 0.8201 - loss: 0.3770 - val_accuracy: 0.8112 - val_loss: 0.3459\n",
      "Epoch 176/200\n",
      "225/225 - 1s - 6ms/step - accuracy: 0.8221 - loss: 0.3772 - val_accuracy: 0.8125 - val_loss: 0.3455\n",
      "Epoch 177/200\n",
      "225/225 - 1s - 5ms/step - accuracy: 0.8219 - loss: 0.3714 - val_accuracy: 0.8125 - val_loss: 0.3449\n",
      "Epoch 178/200\n",
      "225/225 - 1s - 4ms/step - accuracy: 0.8207 - loss: 0.3772 - val_accuracy: 0.8125 - val_loss: 0.3456\n",
      "Epoch 179/200\n",
      "225/225 - 1s - 4ms/step - accuracy: 0.8228 - loss: 0.3763 - val_accuracy: 0.8125 - val_loss: 0.3450\n",
      "Epoch 180/200\n",
      "225/225 - 1s - 6ms/step - accuracy: 0.8226 - loss: 0.3729 - val_accuracy: 0.8125 - val_loss: 0.3456\n",
      "Epoch 181/200\n",
      "225/225 - 1s - 4ms/step - accuracy: 0.8233 - loss: 0.3771 - val_accuracy: 0.8125 - val_loss: 0.3454\n",
      "Epoch 182/200\n",
      "225/225 - 1s - 4ms/step - accuracy: 0.8215 - loss: 0.3781 - val_accuracy: 0.8125 - val_loss: 0.3455\n",
      "Epoch 183/200\n",
      "225/225 - 1s - 4ms/step - accuracy: 0.8217 - loss: 0.3801 - val_accuracy: 0.8125 - val_loss: 0.3460\n",
      "Epoch 184/200\n",
      "225/225 - 1s - 6ms/step - accuracy: 0.8221 - loss: 0.3763 - val_accuracy: 0.8138 - val_loss: 0.3457\n",
      "Epoch 185/200\n",
      "225/225 - 2s - 7ms/step - accuracy: 0.8231 - loss: 0.3779 - val_accuracy: 0.8138 - val_loss: 0.3450\n",
      "Epoch 186/200\n",
      "225/225 - 2s - 7ms/step - accuracy: 0.8236 - loss: 0.3759 - val_accuracy: 0.8125 - val_loss: 0.3465\n",
      "Epoch 187/200\n",
      "225/225 - 3s - 11ms/step - accuracy: 0.8229 - loss: 0.3711 - val_accuracy: 0.8125 - val_loss: 0.3463\n",
      "Epoch 188/200\n",
      "225/225 - 1s - 4ms/step - accuracy: 0.8221 - loss: 0.3764 - val_accuracy: 0.8125 - val_loss: 0.3465\n",
      "Epoch 189/200\n",
      "225/225 - 1s - 5ms/step - accuracy: 0.8203 - loss: 0.3792 - val_accuracy: 0.8125 - val_loss: 0.3466\n",
      "Epoch 190/200\n",
      "225/225 - 1s - 6ms/step - accuracy: 0.8222 - loss: 0.3727 - val_accuracy: 0.8125 - val_loss: 0.3462\n",
      "Epoch 191/200\n",
      "225/225 - 1s - 6ms/step - accuracy: 0.8222 - loss: 0.3776 - val_accuracy: 0.8125 - val_loss: 0.3460\n",
      "Epoch 192/200\n",
      "225/225 - 2s - 10ms/step - accuracy: 0.8221 - loss: 0.3745 - val_accuracy: 0.8125 - val_loss: 0.3467\n",
      "Epoch 193/200\n",
      "225/225 - 1s - 4ms/step - accuracy: 0.8200 - loss: 0.3754 - val_accuracy: 0.8112 - val_loss: 0.3470\n",
      "Epoch 194/200\n",
      "225/225 - 1s - 4ms/step - accuracy: 0.8210 - loss: 0.3792 - val_accuracy: 0.8125 - val_loss: 0.3462\n",
      "Epoch 195/200\n",
      "225/225 - 1s - 4ms/step - accuracy: 0.8228 - loss: 0.3754 - val_accuracy: 0.8125 - val_loss: 0.3460\n",
      "Epoch 196/200\n",
      "225/225 - 3s - 11ms/step - accuracy: 0.8214 - loss: 0.3804 - val_accuracy: 0.8125 - val_loss: 0.3459\n",
      "Epoch 197/200\n",
      "225/225 - 1s - 4ms/step - accuracy: 0.8221 - loss: 0.3767 - val_accuracy: 0.8125 - val_loss: 0.3468\n",
      "Epoch 198/200\n",
      "225/225 - 1s - 6ms/step - accuracy: 0.8204 - loss: 0.3766 - val_accuracy: 0.8112 - val_loss: 0.3463\n",
      "Epoch 199/200\n",
      "225/225 - 1s - 4ms/step - accuracy: 0.8215 - loss: 0.3759 - val_accuracy: 0.8125 - val_loss: 0.3470\n",
      "Epoch 200/200\n",
      "225/225 - 1s - 4ms/step - accuracy: 0.8224 - loss: 0.3739 - val_accuracy: 0.8125 - val_loss: 0.3473\n"
     ]
    }
   ],
   "source": [
    "#Fitting the Neural Network\n",
    "history = classifier.fit(X_train, y_train, batch_size = 32, epochs = 200, validation_split = 0.1, verbose = 2)"
   ]
  },
  {
   "cell_type": "code",
   "execution_count": 19,
   "metadata": {
    "colab": {
     "base_uri": "https://localhost:8080/"
    },
    "id": "aq1-eNM2YqL8",
    "outputId": "0fd0fa0a-cf54-4637-f8b6-f15342002a15"
   },
   "outputs": [
    {
     "name": "stdout",
     "output_type": "stream",
     "text": [
      "\u001b[1m63/63\u001b[0m \u001b[32m━━━━━━━━━━━━━━━━━━━━\u001b[0m\u001b[37m\u001b[0m \u001b[1m0s\u001b[0m 5ms/step\n",
      "[[0.30331257]\n",
      " [0.36109674]\n",
      " [0.22433522]\n",
      " [0.08331075]\n",
      " [0.12779547]]\n"
     ]
    }
   ],
   "source": [
    "y_pred = classifier.predict(X_test)\n",
    "print(y_pred[:5])"
   ]
  },
  {
   "cell_type": "code",
   "execution_count": 20,
   "metadata": {
    "colab": {
     "base_uri": "https://localhost:8080/"
    },
    "id": "S8JJz5bLY-7I",
    "outputId": "00827497-0dfb-49c4-d70b-2071d70ae5f0"
   },
   "outputs": [
    {
     "name": "stdout",
     "output_type": "stream",
     "text": [
      "[[0]\n",
      " [0]\n",
      " [0]\n",
      " [0]\n",
      " [0]]\n"
     ]
    }
   ],
   "source": [
    "#Let us use confusion matrix with cutoff value as 0.5\n",
    "y_pred = (y_pred > 0.5).astype(int)\n",
    "print(y_pred[:5])"
   ]
  },
  {
   "cell_type": "code",
   "execution_count": 21,
   "metadata": {
    "colab": {
     "base_uri": "https://localhost:8080/"
    },
    "id": "Bcyv6h2UZPbO",
    "outputId": "6ca6b222-2516-4b03-c081-1ba7feaa6817"
   },
   "outputs": [
    {
     "name": "stdout",
     "output_type": "stream",
     "text": [
      "[[1587    8]\n",
      " [ 346   59]]\n"
     ]
    }
   ],
   "source": [
    "#Making the Matrix\n",
    "from sklearn.metrics import confusion_matrix\n",
    "cm = confusion_matrix(y_test, y_pred)\n",
    "print(cm)"
   ]
  },
  {
   "cell_type": "code",
   "execution_count": 22,
   "metadata": {
    "colab": {
     "base_uri": "https://localhost:8080/"
    },
    "id": "l3weViSLZc1v",
    "outputId": "64895b62-30f8-4e86-e592-d3fae20b2673"
   },
   "outputs": [
    {
     "name": "stdout",
     "output_type": "stream",
     "text": [
      "82.3 % of data was classified correctly\n"
     ]
    }
   ],
   "source": [
    "#Accuracy of our NN\n",
    "print(((cm[0][0] + cm[1][1])* 100) / len(y_test), '% of data was classified correctly')"
   ]
  }
 ],
 "metadata": {
  "colab": {
   "provenance": []
  },
  "kernelspec": {
   "display_name": "Python 3",
   "language": "python",
   "name": "python3"
  },
  "language_info": {
   "codemirror_mode": {
    "name": "ipython",
    "version": 3
   },
   "file_extension": ".py",
   "mimetype": "text/x-python",
   "name": "python",
   "nbconvert_exporter": "python",
   "pygments_lexer": "ipython3",
   "version": "3.12.4"
  }
 },
 "nbformat": 4,
 "nbformat_minor": 1
}
